{
 "cells": [
  {
   "cell_type": "markdown",
   "metadata": {
    "colab_type": "text",
    "id": "kE1-oiYHJq7a"
   },
   "source": [
    "# Least squares GANs\n",
    "\n",
    "Christopher Beckham, Montreal Institute for Learning Algorithms\n",
    "\n",
    "To run code without setup: https://colab.research.google.com/drive/1KN0E_sORG-Bi7evOVtl6jONphI05ZiVL\n",
    "(Original code derived from: https://github.com/eriklindernoren/Keras-GAN/blob/master/lsgan/lsgan.py)\n",
    "\n",
    "## Introduction\n",
    "\n",
    "**This material will not be presented at the workshop and serves as supplementary material to my presentation on GANs. It is probably going to be quite daunting to see all this Keras code if you're new to the framework, so I'm going to try and illustrate what is going on with diagrams and simple equations so that even if you're not completely comfortable with the code you'll have a fairly high-level description of how one trains a GAN in this framework.**\n",
    "\n",
    "Here we will be using Keras** to write a Least Squares GAN (LSGAN). There are many different types of GANs (each one optimising a different kind of divergence meaure) but the one we'll be using in particular is relatively stable for our purposes, and in particular, this minimises (from the point of view of the discriminator) an approximation of the Chi-squared divergence between the real and generated data distributions (see the original paper [here](https://arxiv.org/abs/1611.04076))."
   ]
  },
  {
   "cell_type": "code",
   "execution_count": 3,
   "metadata": {
    "colab": {
     "autoexec": {
      "startup": false,
      "wait_interval": 0
     },
     "base_uri": "https://localhost:8080/",
     "height": 34
    },
    "colab_type": "code",
    "executionInfo": {
     "elapsed": 7372,
     "status": "ok",
     "timestamp": 1529011915427,
     "user": {
      "displayName": "Christopher Beckham",
      "photoUrl": "//lh6.googleusercontent.com/-uIN7Y7MZBu8/AAAAAAAAAAI/AAAAAAAAB6c/kBlo8Iu5bKo/s50-c-k-no/photo.jpg",
      "userId": "100782942815284464333"
     },
     "user_tz": 240
    },
    "id": "HI1ylpBb-kvR",
    "outputId": "cdb735ec-da22-4c85-aaf0-e6903fb76b25"
   },
   "outputs": [
    {
     "name": "stderr",
     "output_type": "stream",
     "text": [
      "Using TensorFlow backend.\n"
     ]
    }
   ],
   "source": [
    "from __future__ import print_function, division\n",
    "from keras.datasets import mnist\n",
    "from keras.layers import Input, Dense, Reshape, Flatten, Dropout\n",
    "from keras.layers import BatchNormalization, Activation, ZeroPadding2D\n",
    "from keras.layers.advanced_activations import LeakyReLU\n",
    "from keras.layers.convolutional import UpSampling2D, Conv2D\n",
    "from keras.models import Sequential, Model\n",
    "from keras.optimizers import Adam\n",
    "\n",
    "import matplotlib.pyplot as plt\n",
    "import sys\n",
    "import numpy as np\n"
   ]
  },
  {
   "cell_type": "code",
   "execution_count": 0,
   "metadata": {
    "colab": {
     "autoexec": {
      "startup": false,
      "wait_interval": 0
     }
    },
    "colab_type": "code",
    "collapsed": true,
    "id": "TFV1fUzE__jE"
   },
   "outputs": [],
   "source": [
    "import matplotlib.pyplot as plt\n",
    "%matplotlib inline"
   ]
  },
  {
   "cell_type": "markdown",
   "metadata": {
    "colab_type": "text",
    "id": "o6KII8CvMONg"
   },
   "source": [
    "Here is a pretty good illustration summarising the entire GAN (both the generator and the discriminator):"
   ]
  },
  {
   "cell_type": "markdown",
   "metadata": {
    "colab_type": "text",
    "id": "SmzHlCG_MBtv"
   },
   "source": [
    "![img](https://deeplearning4j.org/img/GANs.png =600x250)\n",
    "\n",
    "(Credit: deeplearning4j.org)"
   ]
  },
  {
   "cell_type": "markdown",
   "metadata": {
    "colab_type": "text",
    "id": "LfhVhK8JLC3a"
   },
   "source": [
    "Let us define our generator network. The generator is a function $G(\\mathbf{z})$ which takes a source of noise sampled from the prior distribution ($\\mathbf{z} \\sim p(\\mathbf{z})$) and returns a sample $\\tilde{\\mathbf{x}}$. Essentially, the network is an MLP (i.e. multi-layer perceptron, a fully-connected neural network) which takes the $\\mathbf{z}$ vector and maps it through a few fully-connected (`Dense`) layers, before reshaping the final output into a 28x28 image.\n",
    "\n",
    "**Note: for technical reasons (such as speed) I've decided to go with an MLP as the generator, but generally for images you'd want to go with a deconvolutional network, which is obviously designed for images as inputs. In fact, this is what the generator in the above diagram is depicting.**"
   ]
  },
  {
   "cell_type": "markdown",
   "metadata": {
    "colab_type": "text",
    "id": "pIZI-T2SMti_"
   },
   "source": [
    "### Building the generator\n",
    "\n",
    "The architecture of the generator is the following (in textual form): \n",
    "\n",
    "`(z_dim) -> 256 -> 512 -> 1024 -> (28*28)`\n",
    "\n",
    "`z_dim` is the number of dimensions of our prior distribution $p(\\mathbf{z})$. For our case something like 100 is sufficient."
   ]
  },
  {
   "cell_type": "code",
   "execution_count": 0,
   "metadata": {
    "colab": {
     "autoexec": {
      "startup": false,
      "wait_interval": 0
     }
    },
    "colab_type": "code",
    "collapsed": true,
    "id": "GUWZa-Pl-wIG"
   },
   "outputs": [],
   "source": [
    "img_shape = (28,28,1)\n",
    "\n",
    "def build_generator(z_dim):\n",
    "    model = Sequential()\n",
    "    model.add(Dense(256, input_dim=z_dim))\n",
    "    model.add(LeakyReLU(alpha=0.2))\n",
    "    model.add(BatchNormalization(momentum=0.8))\n",
    "    model.add(Dense(512))\n",
    "    model.add(LeakyReLU(alpha=0.2))\n",
    "    model.add(BatchNormalization(momentum=0.8))\n",
    "    model.add(Dense(1024))\n",
    "    model.add(LeakyReLU(alpha=0.2))\n",
    "    model.add(BatchNormalization(momentum=0.8))\n",
    "    model.add(Dense(np.prod(img_shape), activation='tanh'))\n",
    "    model.add(Reshape(img_shape))\n",
    "    \n",
    "    model.summary()\n",
    "    noise = Input(shape=(z_dim,))\n",
    "    img = model(noise)\n",
    "    \n",
    "    return Model(noise, img)\n"
   ]
  },
  {
   "cell_type": "markdown",
   "metadata": {
    "colab_type": "text",
    "id": "IIuOBTPpMCcU"
   },
   "source": [
    "### Building the discriminator\n",
    "\n",
    "Here we create a discriminator model that takes an image as input and outputs a single value, representing whether the input is real or generated. Unlike normal GANs, the output is not in the range [0,1] and does not represent a probability! Instead, the output should be as close to 1 as possible for real inputs and as close to zero for fake inputs. In this manner, we can think of the discriminator as a margin classifier rather than a probabilistic one (it tries to put all samples from one class on one side of the decision boundary, and samples from the other class on the other side).\n",
    "\n",
    "The architecture of the discriminator is the following (in textual form):\n",
    "\n",
    "`(28*28) -> 512 -> 256 -> 1`\n"
   ]
  },
  {
   "cell_type": "code",
   "execution_count": 0,
   "metadata": {
    "colab": {
     "autoexec": {
      "startup": false,
      "wait_interval": 0
     }
    },
    "colab_type": "code",
    "collapsed": true,
    "id": "-NvkX3tz-qlN"
   },
   "outputs": [],
   "source": [
    "def build_discriminator():\n",
    "\n",
    "    model = Sequential()\n",
    "\n",
    "    model.add(Flatten(input_shape=img_shape))\n",
    "    model.add(Dense(512))\n",
    "    model.add(LeakyReLU(alpha=0.2))\n",
    "    model.add(Dense(256))\n",
    "    model.add(LeakyReLU(alpha=0.2))\n",
    "    # (!!!) No softmax\n",
    "    model.add(Dense(1))\n",
    "    model.summary()\n",
    "\n",
    "    img = Input(shape=img_shape)\n",
    "    validity = model(img)\n",
    "\n",
    "    return Model(img, validity)\n"
   ]
  },
  {
   "cell_type": "markdown",
   "metadata": {
    "colab_type": "text",
    "id": "_QfyZqoaNcLS"
   },
   "source": [
    "Let us load the MNIST digits dataset. We will also select a random sample of images to look at for visualisation purposes."
   ]
  },
  {
   "cell_type": "code",
   "execution_count": 0,
   "metadata": {
    "colab": {
     "autoexec": {
      "startup": false,
      "wait_interval": 0
     }
    },
    "colab_type": "code",
    "collapsed": true,
    "id": "7w33MKJ6_sYk"
   },
   "outputs": [],
   "source": [
    "batch_size = 32\n",
    "\n",
    "# Load the dataset\n",
    "(X_train, _), (_, _) = mnist.load_data()\n",
    "\n",
    "# Rescale -1 to 1\n",
    "X_train = (X_train.astype(np.float32) - 127.5) / 127.5\n",
    "X_train = np.expand_dims(X_train, axis=3)\n",
    "\n",
    "# Adversarial ground truths\n",
    "real_label = np.ones((batch_size, 1))\n",
    "fake_label = np.zeros((batch_size, 1))\n"
   ]
  },
  {
   "cell_type": "code",
   "execution_count": 9,
   "metadata": {
    "colab": {
     "autoexec": {
      "startup": false,
      "wait_interval": 0
     },
     "base_uri": "https://localhost:8080/",
     "height": 268
    },
    "colab_type": "code",
    "executionInfo": {
     "elapsed": 1096,
     "status": "ok",
     "timestamp": 1529012029760,
     "user": {
      "displayName": "Christopher Beckham",
      "photoUrl": "//lh6.googleusercontent.com/-uIN7Y7MZBu8/AAAAAAAAAAI/AAAAAAAAB6c/kBlo8Iu5bKo/s50-c-k-no/photo.jpg",
      "userId": "100782942815284464333"
     },
     "user_tz": 240
    },
    "id": "AUt9E_zDNhVs",
    "outputId": "4c293005-0a55-4570-ed94-c49b5f43dbc0"
   },
   "outputs": [
    {
     "data": {
      "image/png": "[encoded data removed]",
      "text/plain": [
       "<matplotlib.figure.Figure at 0x7f3f0fdedf28>"
      ]
     },
     "metadata": {
      "tags": []
     },
     "output_type": "display_data"
    }
   ],
   "source": [
    "idxs = np.arange(0, len(X_train))\n",
    "np.random.shuffle(idxs)\n",
    "c = 0\n",
    "plt.figure(figsize=(8,4))\n",
    "for i in range(4):\n",
    "  for j in range(4):\n",
    "    plt.subplot(4,4,c+1)\n",
    "    plt.imshow(X_train[idxs[c],:,:,0], cmap=\"gray\")\n",
    "    plt.axis('off')\n",
    "    c += 1"
   ]
  },
  {
   "cell_type": "markdown",
   "metadata": {
    "colab_type": "text",
    "id": "C8b94Q35RAWE"
   },
   "source": [
    "### Understanding the loss function\n",
    "\n",
    "The LSGAN loss function is very simple to calculate. In a standard GAN, the discriminator has a sigmoid output, representing the probability that samples are real or generated. In  LSGANs, however, the output is linear with no activation function! Instead of being constrained to $[0, 1]$, the discriminator wants to make the classification for real samples be = 1 and fake samples = 0.\n",
    "\n",
    "To formalise this a little, the discriminator of the GAN is trying to *minimise* this loss:\n",
    "\n",
    "$ \\frac{1}{n}\\sum_{i=1}^{n} (D(\\mathbf{x}_{i})-1)^{2} + \\frac{1}{n}\\sum_{i=1}^{n} (D(G(\\mathbf{z}_{i}))-0)^{2} $.\n",
    "\n",
    "Since the generator is trying to fool the discriminator into thinking its samples are actually *real*, it optimises the opposite of the term on the right-hand side, i.e.:\n",
    "\n",
    "$ \\frac{1}{n}\\sum_{i=1}^{n} (D(G(\\mathbf{z}_{i}))-0)^{2} $\n",
    "\n",
    "Since the mean-squared error is built into Keras (like it is in most frameworks), it is sufficient to just specify `mse` in the `compile()` method, as you will see below."
   ]
  },
  {
   "cell_type": "code",
   "execution_count": 29,
   "metadata": {
    "colab": {
     "autoexec": {
      "startup": false,
      "wait_interval": 0
     },
     "base_uri": "https://localhost:8080/",
     "height": 527
    },
    "colab_type": "code",
    "executionInfo": {
     "elapsed": 267,
     "status": "ok",
     "timestamp": 1529014441994,
     "user": {
      "displayName": "Christopher Beckham",
      "photoUrl": "//lh6.googleusercontent.com/-uIN7Y7MZBu8/AAAAAAAAAAI/AAAAAAAAB6c/kBlo8Iu5bKo/s50-c-k-no/photo.jpg",
      "userId": "100782942815284464333"
     },
     "user_tz": 240
    },
    "id": "x3K4IRt9UkoF",
    "outputId": "3d5511eb-cde6-4fa3-b194-75c271ff20f1"
   },
   "outputs": [
    {
     "name": "stdout",
     "output_type": "stream",
     "text": [
      "_________________________________________________________________\n",
      "Layer (type)                 Output Shape              Param #   \n",
      "=================================================================\n",
      "flatten_4 (Flatten)          (None, 784)               0         \n",
      "_________________________________________________________________\n",
      "dense_22 (Dense)             (None, 512)               401920    \n",
      "_________________________________________________________________\n",
      "leaky_re_lu_16 (LeakyReLU)   (None, 512)               0         \n",
      "_________________________________________________________________\n",
      "dense_23 (Dense)             (None, 256)               131328    \n",
      "_________________________________________________________________\n",
      "leaky_re_lu_17 (LeakyReLU)   (None, 256)               0         \n",
      "_________________________________________________________________\n",
      "dense_24 (Dense)             (None, 1)                 257       \n",
      "=================================================================\n",
      "Total params: 533,505\n",
      "Trainable params: 533,505\n",
      "Non-trainable params: 0\n",
      "_________________________________________________________________\n",
      "_________________________________________________________________\n",
      "Layer (type)                 Output Shape              Param #   \n",
      "=================================================================\n",
      "input_8 (InputLayer)         (None, 28, 28, 1)         0         \n",
      "_________________________________________________________________\n",
      "sequential_7 (Sequential)    (None, 1)                 533505    \n",
      "=================================================================\n",
      "Total params: 533,505\n",
      "Trainable params: 533,505\n",
      "Non-trainable params: 0\n",
      "_________________________________________________________________\n"
     ]
    }
   ],
   "source": [
    "# Specify the optimiser. Adam is a pretty\n",
    "# safe choice these days.\n",
    "optimizer = Adam(0.0002, 0.5)\n",
    "# Build and compile the discriminator\n",
    "discriminator = build_discriminator()\n",
    "# Print a textual description of the network.\n",
    "discriminator.summary()\n",
    "# Compile.\n",
    "discriminator.compile(loss='mse',\n",
    "    optimizer=optimizer,\n",
    "    metrics=['accuracy'])\n"
   ]
  },
  {
   "cell_type": "code",
   "execution_count": 30,
   "metadata": {
    "colab": {
     "autoexec": {
      "startup": false,
      "wait_interval": 0
     },
     "base_uri": "https://localhost:8080/",
     "height": 697
    },
    "colab_type": "code",
    "executionInfo": {
     "elapsed": 1213,
     "status": "ok",
     "timestamp": 1529014445433,
     "user": {
      "displayName": "Christopher Beckham",
      "photoUrl": "//lh6.googleusercontent.com/-uIN7Y7MZBu8/AAAAAAAAAAI/AAAAAAAAB6c/kBlo8Iu5bKo/s50-c-k-no/photo.jpg",
      "userId": "100782942815284464333"
     },
     "user_tz": 240
    },
    "id": "kxqzO4-K_SOG",
    "outputId": "fd9a3e2b-e9ba-41e3-e13c-2ab413af05af"
   },
   "outputs": [
    {
     "name": "stdout",
     "output_type": "stream",
     "text": [
      "_________________________________________________________________\n",
      "Layer (type)                 Output Shape              Param #   \n",
      "=================================================================\n",
      "dense_25 (Dense)             (None, 256)               25856     \n",
      "_________________________________________________________________\n",
      "leaky_re_lu_18 (LeakyReLU)   (None, 256)               0         \n",
      "_________________________________________________________________\n",
      "batch_normalization_10 (Batc (None, 256)               1024      \n",
      "_________________________________________________________________\n",
      "dense_26 (Dense)             (None, 512)               131584    \n",
      "_________________________________________________________________\n",
      "leaky_re_lu_19 (LeakyReLU)   (None, 512)               0         \n",
      "_________________________________________________________________\n",
      "batch_normalization_11 (Batc (None, 512)               2048      \n",
      "_________________________________________________________________\n",
      "dense_27 (Dense)             (None, 1024)              525312    \n",
      "_________________________________________________________________\n",
      "leaky_re_lu_20 (LeakyReLU)   (None, 1024)              0         \n",
      "_________________________________________________________________\n",
      "batch_normalization_12 (Batc (None, 1024)              4096      \n",
      "_________________________________________________________________\n",
      "dense_28 (Dense)             (None, 784)               803600    \n",
      "_________________________________________________________________\n",
      "reshape_4 (Reshape)          (None, 28, 28, 1)         0         \n",
      "=================================================================\n",
      "Total params: 1,493,520\n",
      "Trainable params: 1,489,936\n",
      "Non-trainable params: 3,584\n",
      "_________________________________________________________________\n",
      "_________________________________________________________________\n",
      "Layer (type)                 Output Shape              Param #   \n",
      "=================================================================\n",
      "input_9 (InputLayer)         (None, 100)               0         \n",
      "_________________________________________________________________\n",
      "sequential_8 (Sequential)    (None, 28, 28, 1)         1493520   \n",
      "=================================================================\n",
      "Total params: 1,493,520\n",
      "Trainable params: 1,489,936\n",
      "Non-trainable params: 3,584\n",
      "_________________________________________________________________\n"
     ]
    }
   ],
   "source": [
    "# Build the generator\n",
    "z_dim = 100\n",
    "generator = build_generator(z_dim)\n",
    "\n",
    "generator.summary()\n",
    "\n",
    "# The generator takes noise as input and generated imgs\n",
    "z = Input(shape=(z_dim,))\n",
    "img = generator(z)\n",
    "\n",
    "# For the combined model we will only train the generator\n",
    "discriminator.trainable = False\n",
    "\n",
    "# The valid takes generated images as input and determines validity\n",
    "disc_out = discriminator(img)\n",
    "\n",
    "# The combined model  (stacked generator and discriminator)\n",
    "# Trains generator to fool discriminator\n",
    "combined = Model(z, disc_out)\n",
    "# (!!!) Optimize w.r.t. MSE loss instead of crossentropy\n",
    "combined.compile(loss='mse', \n",
    "                 optimizer=optimizer)\n"
   ]
  },
  {
   "cell_type": "markdown",
   "metadata": {
    "colab_type": "text",
    "id": "CC7QsKRQVDXH"
   },
   "source": [
    "Have this run for at least 10 minutes. It will take a while but probably not too long!"
   ]
  },
  {
   "cell_type": "code",
   "execution_count": 34,
   "metadata": {
    "colab": {
     "autoexec": {
      "startup": false,
      "wait_interval": 0
     },
     "base_uri": "https://localhost:8080/",
     "height": 1210
    },
    "colab_type": "code",
    "executionInfo": {
     "elapsed": 543949,
     "status": "ok",
     "timestamp": 1529015017450,
     "user": {
      "displayName": "Christopher Beckham",
      "photoUrl": "//lh6.googleusercontent.com/-uIN7Y7MZBu8/AAAAAAAAAAI/AAAAAAAAB6c/kBlo8Iu5bKo/s50-c-k-no/photo.jpg",
      "userId": "100782942815284464333"
     },
     "user_tz": 240
    },
    "id": "45oHfQlg_AxK",
    "outputId": "65917e45-b21a-4286-cb9b-a366cdea8608"
   },
   "outputs": [
    {
     "name": "stderr",
     "output_type": "stream",
     "text": [
      "/usr/local/lib/python3.6/dist-packages/keras/engine/training.py:975: UserWarning: Discrepancy between trainable weights and collected trainable weights, did you set `model.trainable` without calling `model.compile` after ?\n",
      "  'Discrepancy between trainable weights and collected trainable'\n"
     ]
    },
    {
     "name": "stdout",
     "output_type": "stream",
     "text": [
      "0 [D loss: 0.568935, acc.: 57.81%] [G loss: 0.334262]\n",
      "300 [D loss: 0.062467, acc.: 96.88%] [G loss: 0.808716]\n",
      "600 [D loss: 0.148674, acc.: 71.88%] [G loss: 0.735381]\n",
      "900 [D loss: 0.068289, acc.: 90.62%] [G loss: 0.924165]\n",
      "1200 [D loss: 0.079488, acc.: 95.31%] [G loss: 1.044658]\n",
      "1500 [D loss: 0.066385, acc.: 93.75%] [G loss: 1.191257]\n",
      "1800 [D loss: 0.108168, acc.: 87.50%] [G loss: 0.998321]\n",
      "2100 [D loss: 0.157928, acc.: 79.69%] [G loss: 0.798233]\n",
      "2400 [D loss: 0.252065, acc.: 56.25%] [G loss: 0.681431]\n",
      "2700 [D loss: 0.237256, acc.: 62.50%] [G loss: 0.678122]\n",
      "3000 [D loss: 0.185825, acc.: 71.88%] [G loss: 0.661538]\n",
      "3300 [D loss: 0.237963, acc.: 57.81%] [G loss: 0.707764]\n",
      "3600 [D loss: 0.179403, acc.: 71.88%] [G loss: 0.662673]\n",
      "3900 [D loss: 0.195811, acc.: 71.88%] [G loss: 0.617959]\n",
      "4200 [D loss: 0.133711, acc.: 84.38%] [G loss: 0.666642]\n",
      "4500 [D loss: 0.223331, acc.: 62.50%] [G loss: 0.659649]\n",
      "4800 [D loss: 0.176986, acc.: 76.56%] [G loss: 0.658744]\n",
      "5100 [D loss: 0.208617, acc.: 68.75%] [G loss: 0.517825]\n",
      "5400 [D loss: 0.182514, acc.: 73.44%] [G loss: 0.596674]\n",
      "5700 [D loss: 0.191127, acc.: 73.44%] [G loss: 0.542790]\n",
      "6000 [D loss: 0.167236, acc.: 75.00%] [G loss: 0.649732]\n",
      "6300 [D loss: 0.242710, acc.: 57.81%] [G loss: 0.496345]\n",
      "6600 [D loss: 0.198426, acc.: 71.88%] [G loss: 0.572850]\n",
      "6900 [D loss: 0.168405, acc.: 81.25%] [G loss: 0.585416]\n",
      "7200 [D loss: 0.228576, acc.: 62.50%] [G loss: 0.549258]\n",
      "7500 [D loss: 0.202687, acc.: 70.31%] [G loss: 0.547667]\n",
      "7800 [D loss: 0.186889, acc.: 68.75%] [G loss: 0.529155]\n",
      "8100 [D loss: 0.201103, acc.: 67.19%] [G loss: 0.616442]\n",
      "8400 [D loss: 0.202663, acc.: 71.88%] [G loss: 0.581138]\n",
      "8700 [D loss: 0.197296, acc.: 78.12%] [G loss: 0.535345]\n",
      "9000 [D loss: 0.223199, acc.: 70.31%] [G loss: 0.599275]\n",
      "9300 [D loss: 0.197929, acc.: 71.88%] [G loss: 0.551810]\n",
      "9600 [D loss: 0.209678, acc.: 65.62%] [G loss: 0.572513]\n",
      "9900 [D loss: 0.213257, acc.: 65.62%] [G loss: 0.508285]\n",
      "10200 [D loss: 0.194053, acc.: 68.75%] [G loss: 0.456350]\n",
      "10500 [D loss: 0.262892, acc.: 53.12%] [G loss: 0.410545]\n",
      "10800 [D loss: 0.205894, acc.: 71.88%] [G loss: 0.452231]\n",
      "11100 [D loss: 0.261027, acc.: 54.69%] [G loss: 0.422818]\n",
      "11400 [D loss: 0.227698, acc.: 68.75%] [G loss: 0.411364]\n",
      "11700 [D loss: 0.232111, acc.: 64.06%] [G loss: 0.435768]\n",
      "12000 [D loss: 0.231426, acc.: 64.06%] [G loss: 0.459699]\n",
      "12300 [D loss: 0.189518, acc.: 73.44%] [G loss: 0.531258]\n",
      "12600 [D loss: 0.226560, acc.: 65.62%] [G loss: 0.534749]\n",
      "12900 [D loss: 0.190265, acc.: 64.06%] [G loss: 0.530901]\n",
      "13200 [D loss: 0.233347, acc.: 62.50%] [G loss: 0.568869]\n",
      "13500 [D loss: 0.201103, acc.: 75.00%] [G loss: 0.471351]\n",
      "13800 [D loss: 0.215475, acc.: 65.62%] [G loss: 0.505818]\n",
      "14100 [D loss: 0.203939, acc.: 73.44%] [G loss: 0.469186]\n",
      "14400 [D loss: 0.209505, acc.: 73.44%] [G loss: 0.563592]\n",
      "14700 [D loss: 0.227764, acc.: 59.38%] [G loss: 0.526458]\n",
      "15000 [D loss: 0.267626, acc.: 50.00%] [G loss: 0.528224]\n",
      "15300 [D loss: 0.167597, acc.: 78.12%] [G loss: 0.556279]\n",
      "15600 [D loss: 0.203141, acc.: 68.75%] [G loss: 0.490137]\n",
      "15900 [D loss: 0.173126, acc.: 75.00%] [G loss: 0.554837]\n",
      "16200 [D loss: 0.232922, acc.: 54.69%] [G loss: 0.421965]\n",
      "16500 [D loss: 0.187112, acc.: 71.88%] [G loss: 0.500349]\n",
      "16800 [D loss: 0.192771, acc.: 71.88%] [G loss: 0.497101]\n",
      "17100 [D loss: 0.234804, acc.: 59.38%] [G loss: 0.492396]\n",
      "17400 [D loss: 0.204332, acc.: 67.19%] [G loss: 0.471461]\n",
      "17700 [D loss: 0.230686, acc.: 57.81%] [G loss: 0.465650]\n",
      "18000 [D loss: 0.220195, acc.: 60.94%] [G loss: 0.489452]\n",
      "18300 [D loss: 0.172264, acc.: 75.00%] [G loss: 0.580527]\n",
      "18600 [D loss: 0.211485, acc.: 64.06%] [G loss: 0.479373]\n",
      "18900 [D loss: 0.231323, acc.: 56.25%] [G loss: 0.462293]\n",
      "19200 [D loss: 0.204440, acc.: 78.12%] [G loss: 0.477399]\n",
      "19500 [D loss: 0.214842, acc.: 68.75%] [G loss: 0.535899]\n",
      "19800 [D loss: 0.219776, acc.: 59.38%] [G loss: 0.486661]\n"
     ]
    }
   ],
   "source": [
    "# The number of iterations.\n",
    "iters = 20000\n",
    "\n",
    "for iter_ in range(iters):\n",
    "\n",
    "    # ---------------------\n",
    "    #  Train Discriminator\n",
    "    # ---------------------\n",
    "\n",
    "    # Select a random batch of images\n",
    "    idx = np.random.randint(0, X_train.shape[0], batch_size)\n",
    "    imgs = X_train[idx]\n",
    "\n",
    "    # Sample noise as generator input\n",
    "    noise = np.random.normal(0, 1, (batch_size, 100))\n",
    "\n",
    "    # Generate a batch of new images\n",
    "    gen_imgs = generator.predict(noise)\n",
    "\n",
    "    # Train the discriminator\n",
    "    d_loss_real = discriminator.train_on_batch(imgs, real_label)\n",
    "    d_loss_fake = discriminator.train_on_batch(gen_imgs, fake_label)\n",
    "    d_loss = 0.5 * np.add(d_loss_real, d_loss_fake)\n",
    "\n",
    "\n",
    "    # ---------------------\n",
    "    #  Train Generator\n",
    "    # ---------------------\n",
    "\n",
    "    g_loss = combined.train_on_batch(noise, real_label)\n",
    "\n",
    "    # Plot the progress\n",
    "    if iter_ % 300 == 0:\n",
    "      print (\"%d [D loss: %f, acc.: %.2f%%] [G loss: %f]\" % (iter_, d_loss[0], 100*d_loss[1], g_loss))\n"
   ]
  },
  {
   "cell_type": "markdown",
   "metadata": {
    "colab_type": "text",
    "id": "9HH5gWAPXqtB"
   },
   "source": [
    "### History lesson while you wait for this to train long enough\n",
    "\n",
    "In practice, training GANs can be quite difficult. For example, one has to carefully balance the model capacity of the discriminator and generator -- if the discriminator is too powerful (relative to the generator) then the generator is unable to learn, and if the discriminator is too weak then nothing useful is going to happen during training. You can determine this 'roughly' by looking at `D loss` and `G loss` during training: if the discriminator loss is significantly lower than the generator loss (e.g. suppose the D loss is 0.01 and the G loss is 0.99) then you may have a problem. To determine whether there is a problem, it is useful to look at the samples from the generator over time to see if they are improving or not. I realise all of this sounds like a bit of 'alchemy' but once you get the hang of it you will really enjoy at what you can accomplish with GANs.\n",
    "\n",
    "While you can find a plethora of 'tricks' online which help stabilise GAN training, perhaps the most useful one to know about is the 'gradient penalty'. The 'Wasserstein GAN' (WGAN) is also another GAN variant whose discriminator loss has been shown to be nicely correlated with sample quality -- that is, as long as you see it decreasing during training, you can be confident your samples are improving! I talk about this a bit more at the end of this notebook."
   ]
  },
  {
   "cell_type": "markdown",
   "metadata": {
    "colab_type": "text",
    "id": "57pIBy7WaHVo"
   },
   "source": [
    "## Generating samples\n",
    "\n",
    "Here we generate a bunch of $\\mathbf{z}$'s, feed them to the generator, and plot the outputs."
   ]
  },
  {
   "cell_type": "code",
   "execution_count": 0,
   "metadata": {
    "colab": {
     "autoexec": {
      "startup": false,
      "wait_interval": 0
     }
    },
    "colab_type": "code",
    "collapsed": true,
    "id": "gwGOhhRYPZdd"
   },
   "outputs": [],
   "source": [
    "def sample_images():\n",
    "    r, c = 5, 5\n",
    "    noise = np.random.normal(0, 1, (r * c, 100))\n",
    "    gen_imgs = generator.predict(noise)\n",
    "\n",
    "    # Rescale images 0 - 1\n",
    "    gen_imgs = 0.5 * gen_imgs + 0.5\n",
    "\n",
    "    fig, axs = plt.subplots(r, c)\n",
    "    cnt = 0\n",
    "    for i in range(r):\n",
    "        for j in range(c):\n",
    "            axs[i,j].imshow(gen_imgs[cnt, :,:,0], cmap='gray')\n",
    "            axs[i,j].axis('off')\n",
    "            cnt += 1\n"
   ]
  },
  {
   "cell_type": "code",
   "execution_count": 36,
   "metadata": {
    "colab": {
     "autoexec": {
      "startup": false,
      "wait_interval": 0
     },
     "base_uri": "https://localhost:8080/",
     "height": 269
    },
    "colab_type": "code",
    "executionInfo": {
     "elapsed": 1626,
     "status": "ok",
     "timestamp": 1529015197307,
     "user": {
      "displayName": "Christopher Beckham",
      "photoUrl": "//lh6.googleusercontent.com/-uIN7Y7MZBu8/AAAAAAAAAAI/AAAAAAAAB6c/kBlo8Iu5bKo/s50-c-k-no/photo.jpg",
      "userId": "100782942815284464333"
     },
     "user_tz": 240
    },
    "id": "CjRfB_fk_3BH",
    "outputId": "fc920da0-7b3f-49ad-d89f-97e58e5c1be5"
   },
   "outputs": [
    {
     "data": {
      "image/png": "[encoded data removed]",
      "text/plain": [
       "<matplotlib.figure.Figure at 0x7f3ee9c9ad68>"
      ]
     },
     "metadata": {
      "tags": []
     },
     "output_type": "display_data"
    }
   ],
   "source": [
    "sample_images()"
   ]
  },
  {
   "cell_type": "markdown",
   "metadata": {
    "colab_type": "text",
    "id": "zdcb4R82Hl6D"
   },
   "source": [
    "We can interpolate between two $\\mathbf{z}$ values and have their intermediate outputs be semantically meaningful."
   ]
  },
  {
   "cell_type": "code",
   "execution_count": 0,
   "metadata": {
    "colab": {
     "autoexec": {
      "startup": false,
      "wait_interval": 0
     }
    },
    "colab_type": "code",
    "collapsed": true,
    "id": "VHxZaU9SHtBU"
   },
   "outputs": [],
   "source": [
    "z1 = np.random.normal(0, 1, size=(1, 100))\n",
    "z2 = np.random.normal(0, 1, size=(1, 100))\n"
   ]
  },
  {
   "cell_type": "code",
   "execution_count": 41,
   "metadata": {
    "colab": {
     "autoexec": {
      "startup": false,
      "wait_interval": 0
     },
     "base_uri": "https://localhost:8080/",
     "height": 218
    },
    "colab_type": "code",
    "executionInfo": {
     "elapsed": 400,
     "status": "ok",
     "timestamp": 1529015315314,
     "user": {
      "displayName": "Christopher Beckham",
      "photoUrl": "//lh6.googleusercontent.com/-uIN7Y7MZBu8/AAAAAAAAAAI/AAAAAAAAB6c/kBlo8Iu5bKo/s50-c-k-no/photo.jpg",
      "userId": "100782942815284464333"
     },
     "user_tz": 240
    },
    "id": "lzBCchAdH1Tp",
    "outputId": "c3894cc6-186a-4ef8-cec6-d0ab5e5e295b"
   },
   "outputs": [
    {
     "data": {
      "text/plain": [
       "(-0.5, 27.5, 27.5, -0.5)"
      ]
     },
     "execution_count": 41,
     "metadata": {
      "tags": []
     },
     "output_type": "execute_result"
    },
    {
     "data": {
      "image/png": "[encoded data removed]",
      "text/plain": [
       "<matplotlib.figure.Figure at 0x7f3ee5e782e8>"
      ]
     },
     "metadata": {
      "tags": []
     },
     "output_type": "display_data"
    }
   ],
   "source": [
    "plt.subplot(1,2,1)\n",
    "gz1 = generator.predict(z1)[0]\n",
    "gz2 = generator.predict(z2)[0]\n",
    "plt.imshow(gz1[:,:,0]*0.5 + 0.5, cmap=\"gray\")\n",
    "plt.axis('off')\n",
    "plt.subplot(1,2,2)\n",
    "plt.imshow(gz2[:,:,0]*0.5 + 0.5, cmap=\"gray\")\n",
    "plt.axis('off')"
   ]
  },
  {
   "cell_type": "markdown",
   "metadata": {
    "colab_type": "text",
    "id": "IfqYpObZaSjq"
   },
   "source": [
    "Let's interpolate along a line! We can plot $g(a \\cdot \\mathbf{z}_{1} + (1 - a) \\cdot \\mathbf{z}_{2})$ where $a$ is gradually increased from 0 to 1."
   ]
  },
  {
   "cell_type": "code",
   "execution_count": 42,
   "metadata": {
    "colab": {
     "autoexec": {
      "startup": false,
      "wait_interval": 0
     },
     "base_uri": "https://localhost:8080/",
     "height": 80
    },
    "colab_type": "code",
    "executionInfo": {
     "elapsed": 878,
     "status": "ok",
     "timestamp": 1529015318292,
     "user": {
      "displayName": "Christopher Beckham",
      "photoUrl": "//lh6.googleusercontent.com/-uIN7Y7MZBu8/AAAAAAAAAAI/AAAAAAAAB6c/kBlo8Iu5bKo/s50-c-k-no/photo.jpg",
      "userId": "100782942815284464333"
     },
     "user_tz": 240
    },
    "id": "dXbAa3RnIMn7",
    "outputId": "51b743ca-827b-4cd7-c0f0-1a84a7d9fb5a"
   },
   "outputs": [
    {
     "data": {
      "image/png": "[encoded data removed]",
      "text/plain": [
       "<matplotlib.figure.Figure at 0x7f3ee5f1f4e0>"
      ]
     },
     "metadata": {
      "tags": []
     },
     "output_type": "display_data"
    }
   ],
   "source": [
    "lin = np.linspace(0,1, num=10)\n",
    "for i in range(10):\n",
    "  plt.subplot(1,10,i+1)\n",
    "  gz_mix = generator.predict(z1*lin[i] + z2*(1-lin[i]))[0]\n",
    "  plt.imshow(gz_mix[:,:,0]*0.5 + 0.5, cmap=\"gray\")\n",
    "  plt.axis('off')\n",
    "  "
   ]
  },
  {
   "cell_type": "markdown",
   "metadata": {
    "colab_type": "text",
    "id": "HXlWrSuuDUKo"
   },
   "source": [
    "### Where to go from here:\n",
    "\n",
    "GANs can sometimes be tricky to train in general, but fortunately the recent literature has proposed techniques to make it much easier and less of a hair-ripping experience. Perhaps one of the most important things to know about training GANs is the [gradient penalty](https://arxiv.org/pdf/1704.00028.pdf), which *really* helps to stabilise GAN training. It is basically a regularisation term that you add at the end of your loss function which limits the complexity of the discriminator and therefore its ability to overfit (amongst other things). \n",
    "\n",
    "I also mentioned Wasserstein GAN earlier in the notebook. This is a really nice formulation as the author has shown that the learning dynamics of this are a lot more stable and reliable than other GANs. The paper also has empirical evidence to show that the discriminator loss is *well correlated with sample quality*; that is, as long as the discriminator loss is decreasing over time, you can be sure that the samples you get are probably looking good (assuming your discriminator is powerful enough.)"
   ]
  },
  {
   "cell_type": "code",
   "execution_count": 0,
   "metadata": {
    "colab": {
     "autoexec": {
      "startup": false,
      "wait_interval": 0
     }
    },
    "colab_type": "code",
    "collapsed": true,
    "id": "Vmu6KeVnDwWL"
   },
   "outputs": [],
   "source": []
  }
 ],
 "metadata": {
  "accelerator": "GPU",
  "colab": {
   "collapsed_sections": [],
   "default_view": {},
   "name": "LSGAN MLP in Keras.ipynb",
   "provenance": [],
   "version": "0.3.2",
   "views": {}
  },
  "kernelspec": {
   "display_name": "Python 3",
   "language": "python",
   "name": "python3"
  },
  "language_info": {
   "codemirror_mode": {
    "name": "ipython",
    "version": 3
   },
   "file_extension": ".py",
   "mimetype": "text/x-python",
   "name": "python",
   "nbconvert_exporter": "python",
   "pygments_lexer": "ipython3",
   "version": "3.5.3"
  }
 },
 "nbformat": 4,
 "nbformat_minor": 1
}
