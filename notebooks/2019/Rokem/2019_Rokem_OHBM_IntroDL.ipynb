{
  "nbformat": 4,
  "nbformat_minor": 0,
  "metadata": {
    "colab": {
      "name": "2019-Rokem-OHBM-IntroDL.ipynb",
      "version": "0.3.2",
      "provenance": []
    },
    "language_info": {
      "codemirror_mode": {
        "name": "ipython",
        "version": 3
      },
      "file_extension": ".py",
      "mimetype": "text/x-python",
      "name": "python",
      "nbconvert_exporter": "python",
      "pygments_lexer": "ipython3",
      "version": "3.7.0"
    },
    "kernelspec": {
      "name": "python3",
      "display_name": "Python 3"
    },
    "accelerator": "GPU"
  },
  "cells": [
    {
      "cell_type": "code",
      "metadata": {
        "id": "dd8qr1wpqFbN",
        "colab_type": "code",
        "colab": {}
      },
      "source": [
        "!wget -nc https://raw.githubusercontent.com/arokem/conv-nets/master/conv_net_utils.py"
      ],
      "execution_count": 0,
      "outputs": []
    },
    {
      "cell_type": "code",
      "metadata": {
        "id": "p4t3Bo1oqFbT",
        "colab_type": "code",
        "colab": {}
      },
      "source": [
        "import numpy as np\n",
        "import matplotlib.pyplot as plt \n",
        "%matplotlib inline"
      ],
      "execution_count": 0,
      "outputs": []
    },
    {
      "cell_type": "markdown",
      "metadata": {
        "id": "ZNJbPYX-qFbW",
        "colab_type": "text"
      },
      "source": [
        "A single-layered neural net is simply a set of weights "
      ]
    },
    {
      "cell_type": "markdown",
      "metadata": {
        "id": "uhkI0rEnqFbY",
        "colab_type": "text"
      },
      "source": [
        "<img src='https://raw.githubusercontent.com/arokem/conv-nets/master/img/nn-1.png' width=500px>"
      ]
    },
    {
      "cell_type": "markdown",
      "metadata": {
        "id": "tHb4Ajs6qFbZ",
        "colab_type": "text"
      },
      "source": [
        "Where: \n",
        "\n",
        "$X_{21} = X_{11} w^2_{11} + X_{12} w^2_{21}$"
      ]
    },
    {
      "cell_type": "markdown",
      "metadata": {
        "id": "8cf5PYAxqFba",
        "colab_type": "text"
      },
      "source": [
        "Let's implement this in code:"
      ]
    },
    {
      "cell_type": "code",
      "metadata": {
        "id": "BDtt65YRqFbb",
        "colab_type": "code",
        "colab": {}
      },
      "source": [
        "x11 = 1 \n",
        "x12 = 2\n",
        "w_2_11 = -2\n",
        "w_2_21 = 3"
      ],
      "execution_count": 0,
      "outputs": []
    },
    {
      "cell_type": "code",
      "metadata": {
        "id": "4XlbkwQ9qFbe",
        "colab_type": "code",
        "colab": {}
      },
      "source": [
        "x21 = w_2_11 * x11 + w_2_21 * x12"
      ],
      "execution_count": 0,
      "outputs": []
    },
    {
      "cell_type": "code",
      "metadata": {
        "id": "r20tMj3yqFbh",
        "colab_type": "code",
        "colab": {}
      },
      "source": [
        "print(x21)"
      ],
      "execution_count": 0,
      "outputs": []
    },
    {
      "cell_type": "markdown",
      "metadata": {
        "id": "5wPb0lFMqFbn",
        "colab_type": "text"
      },
      "source": [
        "More generally: \n",
        "\n",
        "$X_{21} = w^2 \\cdot X_{1}\n"
      ]
    },
    {
      "cell_type": "code",
      "metadata": {
        "id": "LClWl3cOqFbo",
        "colab_type": "code",
        "colab": {}
      },
      "source": [
        "x21 = np.dot([w_2_11, w_2_21], [x11, x12])"
      ],
      "execution_count": 0,
      "outputs": []
    },
    {
      "cell_type": "code",
      "metadata": {
        "id": "_1edALEFqFbr",
        "colab_type": "code",
        "colab": {}
      },
      "source": [
        "print(x21)"
      ],
      "execution_count": 0,
      "outputs": []
    },
    {
      "cell_type": "markdown",
      "metadata": {
        "id": "HriXy4Q_qFbv",
        "colab_type": "text"
      },
      "source": [
        "A multi-layered network will add to that another set of weights: "
      ]
    },
    {
      "cell_type": "markdown",
      "metadata": {
        "id": "OCAwv2EvqFbx",
        "colab_type": "text"
      },
      "source": [
        "<img src='https://raw.githubusercontent.com/arokem/conv-nets/master/img/nn-2.png' width=500px>"
      ]
    },
    {
      "cell_type": "code",
      "metadata": {
        "id": "i4wHYcjeqFby",
        "colab_type": "code",
        "colab": {}
      },
      "source": [
        "x11 = 1 \n",
        "x12 = 2\n",
        "\n",
        "w_2_11 = -2\n",
        "w_2_21 = 3\n",
        "w_2_12 = 2\n",
        "w_2_22 = -3\n",
        "\n",
        "w_3_11 = 3\n",
        "w_3_21 = 2"
      ],
      "execution_count": 0,
      "outputs": []
    },
    {
      "cell_type": "code",
      "metadata": {
        "id": "M__2WTALqFb1",
        "colab_type": "code",
        "colab": {}
      },
      "source": [
        "x21 = np.dot([w_2_11, w_2_21], [x11, x12])\n",
        "x22 = np.dot([w_2_12, w_2_22], [x11, x12])\n",
        "\n",
        "x31 = np.dot([w_3_11, w_3_21], [x21, x22])"
      ],
      "execution_count": 0,
      "outputs": []
    },
    {
      "cell_type": "code",
      "metadata": {
        "id": "cRv3N2xxqFb4",
        "colab_type": "code",
        "colab": {}
      },
      "source": [
        "print(x31)"
      ],
      "execution_count": 0,
      "outputs": []
    },
    {
      "cell_type": "markdown",
      "metadata": {
        "id": "UCurppIlqFcE",
        "colab_type": "text"
      },
      "source": [
        "Things get more interesting when an activation function is added to each unit:"
      ]
    },
    {
      "cell_type": "markdown",
      "metadata": {
        "id": "_ReKLUpkqFcE",
        "colab_type": "text"
      },
      "source": [
        "<img src='https://raw.githubusercontent.com/arokem/conv-nets/master/img/nn-3.png' width=500px>"
      ]
    },
    {
      "cell_type": "markdown",
      "metadata": {
        "id": "_nrOiQPnqFcF",
        "colab_type": "text"
      },
      "source": [
        "Different functions that are used include the hyperbolic tangent:"
      ]
    },
    {
      "cell_type": "code",
      "metadata": {
        "id": "eatS5P9iqFcF",
        "colab_type": "code",
        "colab": {}
      },
      "source": [
        "x = np.arange(-np.pi, np.pi, 0.001)"
      ],
      "execution_count": 0,
      "outputs": []
    },
    {
      "cell_type": "code",
      "metadata": {
        "id": "lsZWkX9cqFcH",
        "colab_type": "code",
        "colab": {}
      },
      "source": [
        "plt.plot(x, np.tanh(x))"
      ],
      "execution_count": 0,
      "outputs": []
    },
    {
      "cell_type": "markdown",
      "metadata": {
        "id": "TpXGsGaaqFcJ",
        "colab_type": "text"
      },
      "source": [
        "Another function that has been used a lot, for both convenience, and because it induces sparsity, is a rectified linear unit:"
      ]
    },
    {
      "cell_type": "code",
      "metadata": {
        "id": "Lcu41hyEqFcJ",
        "colab_type": "code",
        "colab": {}
      },
      "source": [
        "plt.plot(x, np.max([x, np.zeros(x.shape[0])], axis=0))"
      ],
      "execution_count": 0,
      "outputs": []
    },
    {
      "cell_type": "code",
      "metadata": {
        "id": "0gxbWDOZqFcM",
        "colab_type": "code",
        "colab": {}
      },
      "source": [
        "x21 = np.max([np.dot([w_2_11, w_2_21], [x11, x12]), 0])\n",
        "x22 = np.max([np.dot([w_2_12, w_2_22], [x11, x12]), 0])\n",
        "\n",
        "x31 = np.max([np.dot([w_3_11, w_3_21], [x21, x22]), 0])"
      ],
      "execution_count": 0,
      "outputs": []
    },
    {
      "cell_type": "code",
      "metadata": {
        "id": "8IOqGLc0qFcN",
        "colab_type": "code",
        "colab": {}
      },
      "source": [
        "print(x31)"
      ],
      "execution_count": 0,
      "outputs": []
    },
    {
      "cell_type": "markdown",
      "metadata": {
        "id": "-g3NzbafqFcP",
        "colab_type": "text"
      },
      "source": [
        "Networks are trained through gradient descent: gradual changes to the values of the weights"
      ]
    },
    {
      "cell_type": "markdown",
      "metadata": {
        "id": "HwLBnihaqFcP",
        "colab_type": "text"
      },
      "source": [
        "The gradients are calculate through **backpropagation**"
      ]
    },
    {
      "cell_type": "markdown",
      "metadata": {
        "id": "cSmIsg2uqFcR",
        "colab_type": "text"
      },
      "source": [
        "Error is propagated back through the network to calculate a gradient (derivative) for each weight by multiplying:\n",
        "\n",
        "- The gradient of the loss function with respect to the node a weight feeds into\n",
        "- The value of the node feeding into the weight\n",
        "- The slope of the activation function of the node it feeds into"
      ]
    },
    {
      "cell_type": "markdown",
      "metadata": {
        "id": "aO_J8r6IqFcS",
        "colab_type": "text"
      },
      "source": [
        "For example, for the network we had above, let's assume the desired output was 10, instead of 12"
      ]
    },
    {
      "cell_type": "code",
      "metadata": {
        "id": "MBFcINlfqFcT",
        "colab_type": "code",
        "colab": {}
      },
      "source": [
        "# We take the simplest possible error, the absolute difference:\n",
        "e31 = x31 - 10\n",
        "\n",
        "# We'll use this helper function to derive ReLU functions:\n",
        "def d_relu(x):\n",
        "    if x > 0:\n",
        "        return 1\n",
        "    else:\n",
        "        return 0\n",
        "\n",
        "e_3_11 = e31 * x21 * d_relu(x31)\n",
        "e_3_21 = e31 * x22 * d_relu(x31)\n",
        "\n",
        "e_2_11 = e_3_11 * x11 * d_relu(x21)\n",
        "e_2_21 = e_3_11 * x12 * d_relu(x21)\n",
        "\n",
        "e_2_12 = e_3_21 * x11 * d_relu(x22)\n",
        "e_2_22 = e_3_21 * x12 * d_relu(x22)\n"
      ],
      "execution_count": 0,
      "outputs": []
    },
    {
      "cell_type": "code",
      "metadata": {
        "id": "7-WxDrqaqFcW",
        "colab_type": "code",
        "colab": {}
      },
      "source": [
        "lr = 0.01"
      ],
      "execution_count": 0,
      "outputs": []
    },
    {
      "cell_type": "code",
      "metadata": {
        "id": "UMg5YDF8qFcY",
        "colab_type": "code",
        "colab": {}
      },
      "source": [
        "w_3_11 = w_3_11 - e_3_11 * lr \n",
        "w_3_21 = w_3_11 - e_3_21 * lr \n",
        "\n",
        "w_2_11 = w_2_11 - e_2_11 * lr\n",
        "w_2_12 = w_2_12 - e_2_12 * lr\n",
        "\n",
        "w_2_21 = w_2_21 - e_2_21 * lr\n",
        "w_2_22 = w_2_22 - e_2_22 * lr"
      ],
      "execution_count": 0,
      "outputs": []
    },
    {
      "cell_type": "code",
      "metadata": {
        "id": "0JUk23_iqFcZ",
        "colab_type": "code",
        "colab": {}
      },
      "source": [
        "x21 = np.max([np.dot([w_2_11, w_2_21], [x11, x12]), 0])\n",
        "x22 = np.max([np.dot([w_2_12, w_2_22], [x11, x12]), 0])\n",
        "\n",
        "x31 = np.max([np.dot([w_3_11, w_3_21], [x21, x22]), 0])"
      ],
      "execution_count": 0,
      "outputs": []
    },
    {
      "cell_type": "code",
      "metadata": {
        "id": "pioS04JBqFcb",
        "colab_type": "code",
        "colab": {}
      },
      "source": [
        "print(x31)"
      ],
      "execution_count": 0,
      "outputs": []
    },
    {
      "cell_type": "markdown",
      "metadata": {
        "id": "PGBZZ2lUqFcc",
        "colab_type": "text"
      },
      "source": [
        "As we'll see next, depending on the error function that is used, neural nets can be used for other tasks as well"
      ]
    },
    {
      "cell_type": "markdown",
      "metadata": {
        "id": "buOgGh8eqFcc",
        "colab_type": "text"
      },
      "source": [
        "# Multilayer networks with Keras \n"
      ]
    },
    {
      "cell_type": "markdown",
      "metadata": {
        "id": "9s_eKDgdqFcd",
        "colab_type": "text"
      },
      "source": [
        "We will use a few functions from [`scikit-learn`](http://scikit-learn.org) to generate data sets:"
      ]
    },
    {
      "cell_type": "code",
      "metadata": {
        "id": "p11u7aYWqFcd",
        "colab_type": "code",
        "colab": {}
      },
      "source": [
        "from sklearn.datasets import make_blobs, make_circles, make_moons\n",
        "from conv_net_utils import generate_dataset"
      ],
      "execution_count": 0,
      "outputs": []
    },
    {
      "cell_type": "code",
      "metadata": {
        "id": "2-l9iQfOqFcf",
        "colab_type": "code",
        "colab": {}
      },
      "source": [
        "import numpy as np\n",
        "import matplotlib as mpl\n",
        "import matplotlib.pyplot as plt\n",
        "%matplotlib inline"
      ],
      "execution_count": 0,
      "outputs": []
    },
    {
      "cell_type": "markdown",
      "metadata": {
        "id": "SAX6xG8kqFch",
        "colab_type": "text"
      },
      "source": [
        "### The first example is a linearly separable data-set:"
      ]
    },
    {
      "cell_type": "code",
      "metadata": {
        "id": "SX8zpMeYqFch",
        "colab_type": "code",
        "colab": {}
      },
      "source": [
        "train_data, test_data, train_labels, test_labels = generate_dataset(make_blobs, \n",
        "                                                                    n_train=1000, \n",
        "                                                                    n_test=200, \n",
        "                                                                    num_labels=2,\n",
        "                                                                    centers=2, \n",
        "                                                                    center_box=[-4., 4.])"
      ],
      "execution_count": 0,
      "outputs": []
    },
    {
      "cell_type": "code",
      "metadata": {
        "id": "C7P32YhSqFcj",
        "colab_type": "code",
        "colab": {}
      },
      "source": [
        "train_data.shape, train_labels.shape"
      ],
      "execution_count": 0,
      "outputs": []
    },
    {
      "cell_type": "code",
      "metadata": {
        "id": "PjDu_Kn7qFcn",
        "colab_type": "code",
        "colab": {}
      },
      "source": [
        "train_data[:10]"
      ],
      "execution_count": 0,
      "outputs": []
    },
    {
      "cell_type": "code",
      "metadata": {
        "id": "8Ov1YxgaqFcp",
        "colab_type": "code",
        "colab": {}
      },
      "source": [
        "train_labels[:10]"
      ],
      "execution_count": 0,
      "outputs": []
    },
    {
      "cell_type": "code",
      "metadata": {
        "id": "SzwN078DqFcq",
        "colab_type": "code",
        "colab": {}
      },
      "source": [
        "fig, ax = plt.subplots(1)\n",
        "ax.scatter(train_data[:, 0], train_data[:, 1], c=np.where(train_labels)[1])\n",
        "ax.set_aspect('equal')"
      ],
      "execution_count": 0,
      "outputs": []
    },
    {
      "cell_type": "code",
      "metadata": {
        "id": "6F3DhpJkqFcs",
        "colab_type": "code",
        "colab": {}
      },
      "source": [
        "from keras.models import Sequential\n",
        "from keras.layers import Dense"
      ],
      "execution_count": 0,
      "outputs": []
    },
    {
      "cell_type": "code",
      "metadata": {
        "id": "_r2582bBqFct",
        "colab_type": "code",
        "colab": {}
      },
      "source": [
        "model = Sequential()\n",
        "model.add(Dense(32, input_shape=(train_data.shape[-1],), activation='relu'))\n",
        "model.add(Dense(2, activation='softmax'))\n",
        "\n",
        "model.compile(loss='categorical_crossentropy',\n",
        "              optimizer='rmsprop',\n",
        "              metrics=['accuracy'])"
      ],
      "execution_count": 0,
      "outputs": []
    },
    {
      "cell_type": "code",
      "metadata": {
        "id": "i3SZm5a5qFcv",
        "colab_type": "code",
        "colab": {}
      },
      "source": [
        "model.fit(train_data, train_labels, epochs=5, batch_size=100, validation_split=0.2)"
      ],
      "execution_count": 0,
      "outputs": []
    },
    {
      "cell_type": "code",
      "metadata": {
        "id": "DQLZsyxEqFcx",
        "colab_type": "code",
        "colab": {}
      },
      "source": [
        "loss_and_metrics = model.evaluate(test_data, test_labels, batch_size=100)"
      ],
      "execution_count": 0,
      "outputs": []
    },
    {
      "cell_type": "code",
      "metadata": {
        "id": "hwSTwsfSqFcz",
        "colab_type": "code",
        "colab": {}
      },
      "source": [
        "for name, metric in zip(model.metrics_names, loss_and_metrics):\n",
        "    print(name, \":\", metric)"
      ],
      "execution_count": 0,
      "outputs": []
    },
    {
      "cell_type": "code",
      "metadata": {
        "id": "QjcV_OmUqFc1",
        "colab_type": "code",
        "colab": {}
      },
      "source": [
        "prediction = np.round(model.predict(test_data)).astype(int).squeeze()"
      ],
      "execution_count": 0,
      "outputs": []
    },
    {
      "cell_type": "code",
      "metadata": {
        "id": "YJPEiF96qFc2",
        "colab_type": "code",
        "colab": {}
      },
      "source": [
        "prediction"
      ],
      "execution_count": 0,
      "outputs": []
    },
    {
      "cell_type": "code",
      "metadata": {
        "id": "FQKmHB0QqFc3",
        "colab_type": "code",
        "colab": {}
      },
      "source": [
        "fig, ax = plt.subplots(1)\n",
        "ax.scatter(test_data[:, 0], test_data[:, 1], c=np.where(prediction)[1])\n",
        "ax.set_aspect('equal')\n",
        "\n"
      ],
      "execution_count": 0,
      "outputs": []
    },
    {
      "cell_type": "markdown",
      "metadata": {
        "id": "JLV0Z87oqFc5",
        "colab_type": "text"
      },
      "source": [
        "### The next set of data is not linearly separable:"
      ]
    },
    {
      "cell_type": "code",
      "metadata": {
        "id": "4N8_voK4qFc5",
        "colab_type": "code",
        "colab": {}
      },
      "source": [
        "train_data, test_data, train_labels, test_labels = generate_dataset(make_circles, \n",
        "                                                                    n_train=1000,\n",
        "                                                                    n_test=200, \n",
        "                                                                    noise=0.2, \n",
        "                                                                    num_labels=2,\n",
        "                                                                    factor=0.1)"
      ],
      "execution_count": 0,
      "outputs": []
    },
    {
      "cell_type": "code",
      "metadata": {
        "id": "CvSmLpG1qFc6",
        "colab_type": "code",
        "colab": {}
      },
      "source": [
        "fig, ax = plt.subplots(1)\n",
        "ax.scatter(train_data[:, 0], train_data[:, 1], c=np.where(train_labels)[1])\n",
        "ax.set_aspect('equal')"
      ],
      "execution_count": 0,
      "outputs": []
    },
    {
      "cell_type": "code",
      "metadata": {
        "id": "1LHi4W-tqFc7",
        "colab_type": "code",
        "colab": {}
      },
      "source": [
        "model.fit(train_data, train_labels, nb_epoch=5, batch_size=100, validation_split=0.2)"
      ],
      "execution_count": 0,
      "outputs": []
    },
    {
      "cell_type": "code",
      "metadata": {
        "id": "LZFyTGNSqFc-",
        "colab_type": "code",
        "colab": {}
      },
      "source": [
        "loss_and_metrics = model.evaluate(test_data, test_labels, batch_size=100)\n",
        "print()\n",
        "for name, metric in zip(model.metrics_names, loss_and_metrics):\n",
        "    print(name, \":\", metric)"
      ],
      "execution_count": 0,
      "outputs": []
    },
    {
      "cell_type": "code",
      "metadata": {
        "id": "aOJZeLvoqFdA",
        "colab_type": "code",
        "colab": {}
      },
      "source": [
        "prediction = np.round(model.predict(test_data)).astype(int).squeeze()"
      ],
      "execution_count": 0,
      "outputs": []
    },
    {
      "cell_type": "code",
      "metadata": {
        "id": "uj-uBqVYqFdB",
        "colab_type": "code",
        "colab": {}
      },
      "source": [
        "fig, ax = plt.subplots(1)\n",
        "ax.scatter(test_data[:, 0], test_data[:, 1], c=np.where(prediction)[1])\n",
        "ax.set_aspect('equal')"
      ],
      "execution_count": 0,
      "outputs": []
    },
    {
      "cell_type": "code",
      "metadata": {
        "id": "W_R41dtvqFdF",
        "colab_type": "code",
        "colab": {}
      },
      "source": [
        "model = Sequential()\n",
        "model.add(Dense(32, input_shape=(train_data.shape[-1],), activation='relu'))\n",
        "model.add(Dense(32, activation='relu'))\n",
        "model.add(Dense(2, activation='softmax'))\n",
        "\n",
        "model.compile(loss='categorical_crossentropy',\n",
        "              optimizer='rmsprop',\n",
        "              metrics=['accuracy'])"
      ],
      "execution_count": 0,
      "outputs": []
    },
    {
      "cell_type": "code",
      "metadata": {
        "id": "ClbTAqliqFdH",
        "colab_type": "code",
        "colab": {}
      },
      "source": [
        "model.fit(train_data, train_labels, epochs=5, batch_size=100, validation_split=0.2)\n",
        "print()\n",
        "loss_and_metrics = model.evaluate(test_data, test_labels, batch_size=100)\n",
        "print()\n",
        "for name, metric in zip(model.metrics_names, loss_and_metrics):\n",
        "    print(name, \":\", metric)"
      ],
      "execution_count": 0,
      "outputs": []
    },
    {
      "cell_type": "code",
      "metadata": {
        "id": "PKLfUVftqFdK",
        "colab_type": "code",
        "colab": {}
      },
      "source": [
        "prediction = np.round(model.predict(test_data)).astype(int).squeeze()"
      ],
      "execution_count": 0,
      "outputs": []
    },
    {
      "cell_type": "code",
      "metadata": {
        "id": "kP0fPEvVqFdL",
        "colab_type": "code",
        "colab": {}
      },
      "source": [
        "fig, ax = plt.subplots(1)\n",
        "ax.scatter(test_data[:, 0], test_data[:, 1], c=np.where(prediction)[1])\n",
        "ax.set_aspect('equal')"
      ],
      "execution_count": 0,
      "outputs": []
    },
    {
      "cell_type": "code",
      "metadata": {
        "id": "om3w2oQBqFdM",
        "colab_type": "code",
        "colab": {}
      },
      "source": [
        "import numpy as np"
      ],
      "execution_count": 0,
      "outputs": []
    },
    {
      "cell_type": "code",
      "metadata": {
        "id": "kh2JWzqXqFdN",
        "colab_type": "code",
        "colab": {}
      },
      "source": [
        "import matplotlib.pyplot as plt\n",
        "%matplotlib inline"
      ],
      "execution_count": 0,
      "outputs": []
    },
    {
      "cell_type": "code",
      "metadata": {
        "id": "3ONqGefSqFdP",
        "colab_type": "code",
        "colab": {},
        "outputId": "ac7d398e-c37b-4737-ba1a-83b42a73f9be"
      },
      "source": [
        "!wget -nc https://storage.googleapis.com/ohbm-dl-lindsay-data/Rokem_IXI_brain_data.npz"
      ],
      "execution_count": 0,
      "outputs": [
        {
          "output_type": "stream",
          "text": [
            "File ‘Rokem_IXI_brain_data.npz’ already there; not retrieving.\r\n",
            "\r\n"
          ],
          "name": "stdout"
        }
      ]
    },
    {
      "cell_type": "code",
      "metadata": {
        "id": "hYsglhEoqFdS",
        "colab_type": "code",
        "colab": {}
      },
      "source": [
        "brain_data = np.load(\"Rokem_IXI_brain_data.npz\")\n",
        "train_data = brain_data['X_train']\n",
        "test_data = brain_data['X_test']\n",
        "train_labels = brain_data['y_train']\n",
        "test_labels = brain_data['y_test']"
      ],
      "execution_count": 0,
      "outputs": []
    },
    {
      "cell_type": "code",
      "metadata": {
        "id": "iEuAztQKqFdV",
        "colab_type": "code",
        "colab": {}
      },
      "source": [
        "shuffle_train = np.random.permutation(np.arange(len(train_data)))\n",
        "shuffle_test = np.random.permutation(np.arange(len(test_data)))"
      ],
      "execution_count": 0,
      "outputs": []
    },
    {
      "cell_type": "code",
      "metadata": {
        "id": "CEaEk8aYqFdW",
        "colab_type": "code",
        "colab": {}
      },
      "source": [
        ""
      ],
      "execution_count": 0,
      "outputs": []
    },
    {
      "cell_type": "code",
      "metadata": {
        "id": "AbA3X7HBqFdX",
        "colab_type": "code",
        "colab": {}
      },
      "source": [
        "train_data = train_data[shuffle_train]\n",
        "train_labels = train_labels[shuffle_train]\n",
        "\n",
        "test_data = test_data[shuffle_test]\n",
        "test_labels = test_labels[shuffle_test]"
      ],
      "execution_count": 0,
      "outputs": []
    },
    {
      "cell_type": "code",
      "metadata": {
        "id": "KMYXUzuxqFdY",
        "colab_type": "code",
        "colab": {}
      },
      "source": [
        "np.savez('new_brain_data', train_data=train_data, test_data=test_data, \n",
        "                           train_labels=train_labels, test_labels=test_labels)"
      ],
      "execution_count": 0,
      "outputs": []
    },
    {
      "cell_type": "code",
      "metadata": {
        "id": "6bq1gIbZqFda",
        "colab_type": "code",
        "colab": {}
      },
      "source": [
        "train_data.shape, train_labels.shape, test_data.shape, test_labels.shape"
      ],
      "execution_count": 0,
      "outputs": []
    },
    {
      "cell_type": "code",
      "metadata": {
        "id": "8JUr7dtfqFdc",
        "colab_type": "code",
        "colab": {}
      },
      "source": [
        "from keras.models import Sequential\n",
        "from keras.layers import Dense\n",
        "from keras.utils import to_categorical"
      ],
      "execution_count": 0,
      "outputs": []
    },
    {
      "cell_type": "code",
      "metadata": {
        "id": "57NAZDLjqFde",
        "colab_type": "code",
        "colab": {}
      },
      "source": [
        "train_labels = to_categorical(train_labels)\n",
        "test_labels = to_categorical(test_labels)"
      ],
      "execution_count": 0,
      "outputs": []
    },
    {
      "cell_type": "code",
      "metadata": {
        "id": "vK9RtUKYqFdf",
        "colab_type": "code",
        "colab": {}
      },
      "source": [
        "train_data_flat = train_data.reshape((train_data.shape[0], -1))\n",
        "test_data_flat = test_data.reshape((test_data.shape[0], -1))"
      ],
      "execution_count": 0,
      "outputs": []
    },
    {
      "cell_type": "code",
      "metadata": {
        "id": "5wrToIyQqFdh",
        "colab_type": "code",
        "colab": {}
      },
      "source": [
        "train_data.shape"
      ],
      "execution_count": 0,
      "outputs": []
    },
    {
      "cell_type": "code",
      "metadata": {
        "id": "qqpmVqgxqFdi",
        "colab_type": "code",
        "colab": {}
      },
      "source": [
        "model = Sequential()\n",
        "model.add(Dense(32, input_shape=(train_data_flat.shape[-1],), activation='relu'))\n",
        "model.add(Dense(32, activation='relu'))\n",
        "model.add(Dense(2, activation='softmax'))\n",
        "\n",
        "model.compile(loss='categorical_crossentropy',\n",
        "              optimizer='rmsprop',\n",
        "              metrics=['accuracy'])"
      ],
      "execution_count": 0,
      "outputs": []
    },
    {
      "cell_type": "code",
      "metadata": {
        "id": "PxbrbKj5qFdl",
        "colab_type": "code",
        "colab": {}
      },
      "source": [
        "model.fit(train_data_flat, train_labels, epochs=10, batch_size=100, validation_split=0.2)\n",
        "print()\n",
        "loss_and_metrics = model.evaluate(test_data_flat, test_labels, batch_size=100)\n",
        "print()\n",
        "for name, metric in zip(model.metrics_names, loss_and_metrics):\n",
        "    print(name, \":\", metric)"
      ],
      "execution_count": 0,
      "outputs": []
    },
    {
      "cell_type": "markdown",
      "metadata": {
        "id": "J5kRL4C2qFdm",
        "colab_type": "text"
      },
      "source": [
        "# What is a convolution? "
      ]
    },
    {
      "cell_type": "code",
      "metadata": {
        "id": "TyPBm_u9qFdn",
        "colab_type": "code",
        "colab": {}
      },
      "source": [
        "import numpy as np\n",
        "import matplotlib.pyplot as plt\n",
        "from conv_net_utils import plot_with_annot, load_fashion\n",
        "%matplotlib inline"
      ],
      "execution_count": 0,
      "outputs": []
    },
    {
      "cell_type": "code",
      "metadata": {
        "id": "OQubYpVYqFdo",
        "colab_type": "code",
        "colab": {}
      },
      "source": [
        "small_image = np.concatenate([np.arange(10), np.arange(10, 0, -1)]).reshape((4, 5))\n",
        "fig1 = plot_with_annot(small_image)"
      ],
      "execution_count": 0,
      "outputs": []
    },
    {
      "cell_type": "code",
      "metadata": {
        "id": "LBQ1pmasqFdq",
        "colab_type": "code",
        "colab": {}
      },
      "source": [
        "small_image = np.pad(small_image, 1, 'constant')\n",
        "fig1 = plot_with_annot(small_image)"
      ],
      "execution_count": 0,
      "outputs": []
    },
    {
      "cell_type": "code",
      "metadata": {
        "id": "NNvmPKAwqFdr",
        "colab_type": "code",
        "colab": {}
      },
      "source": [
        "kernel = np.array([[0, 1, 0], [1, 1, 1], [0, 1, 0]])\n",
        "\n",
        "fig2 = plot_with_annot(kernel) \n",
        "fig2.set_size_inches([1, 1])"
      ],
      "execution_count": 0,
      "outputs": []
    },
    {
      "cell_type": "code",
      "metadata": {
        "id": "FXxEhP_JqFds",
        "colab_type": "code",
        "colab": {}
      },
      "source": [
        "result = np.zeros(small_image.shape)\n",
        "\n",
        "result[1, 1] += np.sum(small_image[:3, :3] * kernel)\n",
        "fig3 = plot_with_annot(result)"
      ],
      "execution_count": 0,
      "outputs": []
    },
    {
      "cell_type": "code",
      "metadata": {
        "id": "kKm7ZkrXqFdt",
        "colab_type": "code",
        "colab": {}
      },
      "source": [
        "result[1, 2] += np.sum(small_image[:3, 1:4] * kernel)\n",
        "fig3 = plot_with_annot(result)"
      ],
      "execution_count": 0,
      "outputs": []
    },
    {
      "cell_type": "code",
      "metadata": {
        "id": "eqxF_fkVqFdv",
        "colab_type": "code",
        "colab": {}
      },
      "source": [
        "result[1, 3] += np.sum(small_image[:3, 2:5] * kernel)\n",
        "fig3 = plot_with_annot(result)"
      ],
      "execution_count": 0,
      "outputs": []
    },
    {
      "cell_type": "code",
      "metadata": {
        "id": "-_CljEShqFdw",
        "colab_type": "code",
        "colab": {}
      },
      "source": [
        "result = np.zeros(small_image.shape)\n",
        "\n",
        "for ii in range(small_image.shape[0]-2):\n",
        "    for jj in range(small_image.shape[1]-2):\n",
        "        result[ii+1, jj+1] = np.sum(small_image[ii:ii+kernel.shape[0], jj:jj+kernel.shape[1]] * kernel)\n",
        "\n",
        "_ = plot_with_annot(result)"
      ],
      "execution_count": 0,
      "outputs": []
    },
    {
      "cell_type": "code",
      "metadata": {
        "id": "5_WKX81YqFdy",
        "colab_type": "code",
        "colab": {}
      },
      "source": [
        "bricks = train_data[0, :, :, 0]"
      ],
      "execution_count": 0,
      "outputs": []
    },
    {
      "cell_type": "code",
      "metadata": {
        "id": "-g9910MBqFd0",
        "colab_type": "code",
        "colab": {}
      },
      "source": [
        "fig, ax = plt.subplots(1)\n",
        "ax.matshow(bricks)\n",
        "ax.set_axis_off()"
      ],
      "execution_count": 0,
      "outputs": []
    },
    {
      "cell_type": "code",
      "metadata": {
        "id": "U7P5NcThqFd2",
        "colab_type": "code",
        "colab": {}
      },
      "source": [
        "conv = np.zeros(bricks.shape)\n",
        "\n",
        "for ii in range(1, bricks.shape[0]-2):\n",
        "    for jj in range(1, bricks.shape[1]-2):\n",
        "        conv[ii, jj] = np.sum(bricks[ii:ii+kernel.shape[0], jj:jj+kernel.shape[1]] * kernel)\n"
      ],
      "execution_count": 0,
      "outputs": []
    },
    {
      "cell_type": "code",
      "metadata": {
        "id": "5ke5Jv7zqFd5",
        "colab_type": "code",
        "colab": {}
      },
      "source": [
        "plt.matshow(conv)"
      ],
      "execution_count": 0,
      "outputs": []
    },
    {
      "cell_type": "code",
      "metadata": {
        "id": "td6wmJ3DqFd6",
        "colab_type": "code",
        "colab": {}
      },
      "source": [
        "kernel = np.array([[-0.5, -0.5, -0.5], [1, 1, 1], [-0.5, -0.5, -0.5]])\n",
        "fig2 = plot_with_annot(kernel, vmax=1)\n",
        "fig2.set_size_inches([1, 1])"
      ],
      "execution_count": 0,
      "outputs": []
    },
    {
      "cell_type": "code",
      "metadata": {
        "id": "kAh31ZwiqFd9",
        "colab_type": "code",
        "colab": {}
      },
      "source": [
        "conv = np.zeros(bricks.shape)\n",
        "\n",
        "for ii in range(1, bricks.shape[0]-2):\n",
        "    for jj in range(1, bricks.shape[1]-2):\n",
        "        conv[ii, jj] = np.sum(bricks[ii:ii+kernel.shape[0], jj:jj+kernel.shape[1]] * kernel)\n",
        "\n",
        "fig, ax = plt.subplots(1)\n",
        "ax.matshow(conv)\n",
        "ax.set_axis_off()"
      ],
      "execution_count": 0,
      "outputs": []
    },
    {
      "cell_type": "code",
      "metadata": {
        "id": "syHvt0uBqFeB",
        "colab_type": "code",
        "colab": {}
      },
      "source": [
        "kernel = np.array([[-0.5, 1, -0.5], [-0.5, 1, -0.5], [-0.5, 1, -0.5]])\n",
        "fig2 = plot_with_annot(kernel, vmax=1)\n",
        "fig2.set_size_inches([1, 1])"
      ],
      "execution_count": 0,
      "outputs": []
    },
    {
      "cell_type": "code",
      "metadata": {
        "id": "eNPVn508qFeC",
        "colab_type": "code",
        "colab": {}
      },
      "source": [
        "conv = np.zeros(bricks.shape)\n",
        "\n",
        "for ii in range(1, bricks.shape[0]-2):\n",
        "    for jj in range(1, bricks.shape[1]-2):\n",
        "        conv[ii, jj] = np.sum(bricks[ii:ii+kernel.shape[0], jj:jj+kernel.shape[1]] * kernel)\n",
        "\n",
        "plt.matshow(conv)"
      ],
      "execution_count": 0,
      "outputs": []
    },
    {
      "cell_type": "markdown",
      "metadata": {
        "id": "wryLS229qFeE",
        "colab_type": "text"
      },
      "source": [
        "# Why are convolutions useful for neural networks?\n",
        "\n",
        "- Natural images contain correlations\n",
        "- Reduce the number of parameters in training"
      ]
    },
    {
      "cell_type": "code",
      "metadata": {
        "id": "RLBv4On5qFeE",
        "colab_type": "code",
        "colab": {}
      },
      "source": [
        "from keras.models import Sequential\n",
        "from keras.layers import Dense, Conv2D, Flatten, MaxPool2D, MaxPooling2D, Dropout"
      ],
      "execution_count": 0,
      "outputs": []
    },
    {
      "cell_type": "code",
      "metadata": {
        "id": "rYQAfvSIqFeF",
        "colab_type": "code",
        "colab": {}
      },
      "source": [
        "model = Sequential()\n",
        "model.add(Conv2D(32, kernel_size=3, input_shape=train_data.shape[1:], activation='relu'))\n",
        "model.add(Flatten())\n",
        "model.add(Dense(2, activation='softmax'))\n",
        "\n",
        "model.compile(loss='categorical_crossentropy',\n",
        "              optimizer='adam',\n",
        "              metrics=['accuracy'])"
      ],
      "execution_count": 0,
      "outputs": []
    },
    {
      "cell_type": "code",
      "metadata": {
        "id": "LQbZHPGoqFeH",
        "colab_type": "code",
        "colab": {}
      },
      "source": [
        "model.fit(train_data, train_labels, epochs=10, batch_size=100, validation_split=0.2)\n",
        "print()\n",
        "loss_and_metrics = model.evaluate(test_data, test_labels, batch_size=100)\n",
        "print()\n",
        "for name, metric in zip(model.metrics_names, loss_and_metrics):\n",
        "    print(name, \":\", metric)"
      ],
      "execution_count": 0,
      "outputs": []
    },
    {
      "cell_type": "code",
      "metadata": {
        "id": "FEhiGHO7qFeI",
        "colab_type": "code",
        "colab": {}
      },
      "source": [
        "model = Sequential()\n",
        "model.add(Conv2D(32, kernel_size=3, input_shape=train_data.shape[1:], activation='relu'))\n",
        "model.add(MaxPool2D((2, 2),padding='same'))\n",
        "model.add(Conv2D(64, kernel_size=3))\n",
        "model.add(MaxPool2D((2, 2),padding='same'))\n",
        "model.add(Flatten())\n",
        "model.add(Dense(2, activation='softmax'))\n",
        "\n",
        "model.compile(loss='categorical_crossentropy',\n",
        "              optimizer='adam',\n",
        "              metrics=['accuracy'])"
      ],
      "execution_count": 0,
      "outputs": []
    },
    {
      "cell_type": "code",
      "metadata": {
        "id": "36X5rb5zqFeK",
        "colab_type": "code",
        "colab": {}
      },
      "source": [
        "model.fit(train_data, train_labels, epochs=10, batch_size=100, validation_split=0.2)\n",
        "print()\n",
        "loss_and_metrics = model.evaluate(test_data, test_labels, batch_size=100)\n",
        "print()\n",
        "for name, metric in zip(model.metrics_names, loss_and_metrics):\n",
        "    print(name, \":\", metric)"
      ],
      "execution_count": 0,
      "outputs": []
    },
    {
      "cell_type": "code",
      "metadata": {
        "id": "qwvK30MpqFeL",
        "colab_type": "code",
        "colab": {}
      },
      "source": [
        "model = Sequential()\n",
        "model.add(Conv2D(32, kernel_size=(3, 3), activation='relu',input_shape=(28,28,1), padding='same'))\n",
        "model.add(MaxPool2D((2, 2),padding='same'))\n",
        "model.add(Conv2D(64, (3, 3), activation='relu',padding='same'))\n",
        "model.add(MaxPool2D(pool_size=(2, 2),padding='same'))\n",
        "model.add(Conv2D(128, (3, 3), activation='relu',padding='same'))\n",
        "model.add(MaxPool2D(pool_size=(2, 2), padding='same'))\n",
        "model.add(Dropout(0.25))\n",
        "\n",
        "model.add(Flatten())\n",
        "model.add(Dense(128, activation='relu'))\n",
        "model.add(Dropout(0.25))\n",
        "model.add(Dense(2, activation='softmax'))\n",
        "\n",
        "model.compile(loss=\"categorical_crossentropy\",\n",
        "              optimizer=\"adadelta\",\n",
        "              metrics=['accuracy'])"
      ],
      "execution_count": 0,
      "outputs": []
    },
    {
      "cell_type": "code",
      "metadata": {
        "id": "4ptOEvGRqFeO",
        "colab_type": "code",
        "colab": {}
      },
      "source": [
        "model.fit(train_data, train_labels, epochs=10, batch_size=100, validation_split=0.2)\n",
        "print()\n",
        "loss_and_metrics = model.evaluate(test_data, test_labels, batch_size=100)\n",
        "print()\n",
        "for name, metric in zip(model.metrics_names, loss_and_metrics):\n",
        "    print(name, \":\", metric)"
      ],
      "execution_count": 0,
      "outputs": []
    },
    {
      "cell_type": "code",
      "metadata": {
        "id": "5fI6t7_cqFeP",
        "colab_type": "code",
        "colab": {}
      },
      "source": [
        ""
      ],
      "execution_count": 0,
      "outputs": []
    }
  ]
}